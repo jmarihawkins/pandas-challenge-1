{
 "cells": [
  {
   "cell_type": "markdown",
   "id": "dc0318d6",
   "metadata": {},
   "source": [
    "## Part 1: Explore the Data\n",
    "\n",
    "Import the data and use Pandas to learn more about the dataset."
   ]
  },
  {
   "cell_type": "code",
   "execution_count": 195,
   "id": "e076f57f",
   "metadata": {},
   "outputs": [],
   "source": [
    "import pandas as pd\n",
    "\n",
    "# Load the dataset\n",
    "data = pd.read_csv('Resources/client_dataset.csv')\n"
   ]
  },
  {
   "cell_type": "code",
   "execution_count": 196,
   "id": "71b9bbd2",
   "metadata": {},
   "outputs": [
    {
     "name": "stdout",
     "output_type": "stream",
     "text": [
      "Column Names:\n",
      "Index(['first', 'last', 'job', 'phone', 'email', 'client_id', 'order_id',\n",
      "       'order_date', 'order_week', 'order_year', 'item_id', 'category',\n",
      "       'subcategory', 'unit_price', 'unit_cost', 'unit_weight', 'qty',\n",
      "       'line_number'],\n",
      "      dtype='object')\n"
     ]
    }
   ],
   "source": [
    "# View column names\n",
    "print(\"Column Names:\")\n",
    "print(data.columns)"
   ]
  },
  {
   "cell_type": "code",
   "execution_count": 197,
   "id": "bc0f4172",
   "metadata": {},
   "outputs": [
    {
     "name": "stdout",
     "output_type": "stream",
     "text": [
      "\n",
      "Basic Statistics:\n",
      "          client_id      order_id    order_week    order_year    unit_price  \\\n",
      "count  54639.000000  5.463900e+04  54639.000000  54639.000000  54639.000000   \n",
      "mean   54837.869416  5.470190e+06     11.359139   2022.993064    136.267207   \n",
      "std    25487.438231  2.599807e+06      7.023499      0.082997    183.873135   \n",
      "min    10033.000000  1.000886e+06      1.000000   2022.000000      0.010000   \n",
      "25%    33593.000000  3.196372e+06      6.000000   2023.000000     20.800000   \n",
      "50%    53305.000000  5.496966e+06     11.000000   2023.000000     68.310000   \n",
      "75%    78498.000000  7.733869e+06     17.000000   2023.000000    173.160000   \n",
      "max    99984.000000  9.998480e+06     52.000000   2023.000000   1396.230000   \n",
      "\n",
      "          unit_cost   unit_weight           qty   line_number  \n",
      "count  54639.000000  54639.000000  5.463900e+04  54639.000000  \n",
      "mean      99.446073      5.004116  5.702646e+02      2.979667  \n",
      "std      133.164267      5.326599  1.879552e+04      2.436320  \n",
      "min        0.010000      0.000000  0.000000e+00      0.000000  \n",
      "25%       14.840000      1.450000  3.200000e+01      1.000000  \n",
      "50%       49.890000      3.240000  6.800000e+01      3.000000  \n",
      "75%      125.570000      6.890000  1.700000e+02      5.000000  \n",
      "max      846.270000     46.430000  3.958244e+06      9.000000  \n"
     ]
    }
   ],
   "source": [
    "# Use the describe function to gather some basic statistics\n",
    "print(\"\\nBasic Statistics:\")\n",
    "print(data.describe())\n"
   ]
  },
  {
   "cell_type": "code",
   "execution_count": 198,
   "id": "b24b53cc",
   "metadata": {},
   "outputs": [
    {
     "name": "stdout",
     "output_type": "stream",
     "text": [
      "Customer Segmentation:\n",
      "unit_price\n",
      "Low       805\n",
      "Medium    166\n",
      "High       28\n",
      "Name: count, dtype: int64\n",
      "\n",
      "Product Co-occurrence Matrix:\n",
      "subcategory  accounting  audio visual  bathroom supplies  cabling  computers  \\\n",
      "category                                                                       \n",
      "consumables           0             0               6424        0          0   \n",
      "decor                 0             0                  0        0          0   \n",
      "electronics           0           732                  0      655        467   \n",
      "furniture             0             0                  0        0          0   \n",
      "software           3756             0                  0        0          0   \n",
      "\n",
      "subcategory  desks  kitchen supplies  logistics  misc  paper products  pens  \\\n",
      "category                                                                      \n",
      "consumables      0              5746          0  2891            5874  2603   \n",
      "decor            0                 0          0  1395               0     0   \n",
      "electronics      0                 0          0     0               0     0   \n",
      "furniture      510                 0          0     0               0     0   \n",
      "software         0                 0       1122     0               0     0   \n",
      "\n",
      "subcategory  plants  project management  seating  stands  tables  telecom  \\\n",
      "category                                                                    \n",
      "consumables       0                   0        0       0       0        0   \n",
      "decor          3466                   0        0       0       0        0   \n",
      "electronics       0                   0        0       0       0      978   \n",
      "furniture         0                   0     2664    4201    4540        0   \n",
      "software          0                3522        0       0       0        0   \n",
      "\n",
      "subcategory  wall art  \n",
      "category               \n",
      "consumables         0  \n",
      "decor            3093  \n",
      "electronics         0  \n",
      "furniture           0  \n",
      "software            0  \n",
      "\n",
      "Monthly Sales Trends:\n",
      "order_year  order_week  category   \n",
      "2022        52          consumables    20258.48\n",
      "                        decor          10054.76\n",
      "                        electronics     3218.75\n",
      "                        furniture      11589.39\n",
      "                        software        8241.52\n",
      "Name: unit_price, dtype: float64\n"
     ]
    }
   ],
   "source": [
    "# Use this space to do any additional research\n",
    "# and familiarize yourself with the data.\n",
    "\n",
    "# Customer Segmentation\n",
    "# Example: Group clients based on their total spending\n",
    "client_spending = client_dataset.groupby('client_id')['unit_price'].sum()\n",
    "client_segments = pd.cut(client_spending, bins=3, labels=['Low', 'Medium', 'High'])\n",
    "segment_counts = client_segments.value_counts()\n",
    "\n",
    "print(\"Customer Segmentation:\")\n",
    "print(segment_counts)\n",
    "print()\n",
    "\n",
    "# Product Association Analysis\n",
    "# Example: Determine frequently co-purchased items\n",
    "product_cooccurrence = client_dataset.groupby('category')['subcategory'].value_counts().unstack(fill_value=0)\n",
    "print(\"Product Co-occurrence Matrix:\")\n",
    "print(product_cooccurrence.head())\n",
    "print()\n",
    "\n",
    "# Time Series Analysis\n",
    "# Example: Analyze sales trends over time for each category\n",
    "monthly_sales = client_dataset.groupby(['order_year', 'order_week', 'category'])['unit_price'].sum()\n",
    "print(\"Monthly Sales Trends:\")\n",
    "print(monthly_sales.head())\n"
   ]
  },
  {
   "cell_type": "code",
   "execution_count": 199,
   "id": "551cb358",
   "metadata": {},
   "outputs": [
    {
     "name": "stdout",
     "output_type": "stream",
     "text": [
      "\n",
      "Top 3 Item Categories:\n",
      "category\n",
      "consumables    23538\n",
      "furniture      11915\n",
      "software        8400\n",
      "Name: count, dtype: int64\n"
     ]
    }
   ],
   "source": [
    "# What three item categories had the most entries?\n",
    "top_categories = data['category'].value_counts().head(3)\n",
    "print(\"\\nTop 3 Item Categories:\")\n",
    "print(top_categories)"
   ]
  },
  {
   "cell_type": "code",
   "execution_count": 200,
   "id": "5f54e2cf",
   "metadata": {},
   "outputs": [
    {
     "name": "stdout",
     "output_type": "stream",
     "text": [
      "\n",
      "Subcategory with Most Entries in Category 'consumables':\n",
      "Subcategory: bathroom supplies\n",
      "Entry Count for Category 'consumables': 23538\n"
     ]
    }
   ],
   "source": [
    "# For the category with the most entries,\n",
    "# which subcategory had the most entries?\n",
    "\n",
    "# Identify the category with the most entries\n",
    "most_entries_category = top_categories.index[0]\n",
    "\n",
    "# Calculate entry count for the category with the most entries\n",
    "entry_count_most_entries_category = data[data['category'] == most_entries_category].shape[0]\n",
    "\n",
    "# Identify the subcategory with the most entries in the category with the most entries\n",
    "subcategory_most_entries = data[data['category'] == most_entries_category]['subcategory'].value_counts().idxmax()\n",
    "\n",
    "print(\"\\nSubcategory with Most Entries in Category '{}':\".format(most_entries_category))\n",
    "print(\"Subcategory:\", subcategory_most_entries)\n",
    "print(\"Entry Count for Category '{}':\".format(most_entries_category), entry_count_most_entries_category)\n"
   ]
  },
  {
   "cell_type": "code",
   "execution_count": 201,
   "id": "2db94379",
   "metadata": {},
   "outputs": [
    {
     "name": "stdout",
     "output_type": "stream",
     "text": [
      "\n",
      "Top 5 Clients:\n",
      "   client_id  entry_count      first     last\n",
      "0      33615          220    Jessica    Reyes\n",
      "1      66037          211     Angela  Everett\n",
      "2      46820          209      Bryan    Myers\n",
      "3      38378          207  Alexandra    Young\n",
      "4      24741          207     Kendra  Garrett\n"
     ]
    }
   ],
   "source": [
    "# Which five clients had the most entries in the data?\n",
    "top_clients = data['client_id'].value_counts().head(5)\n",
    "\n",
    "# Merge with client names\n",
    "top_clients_info = top_clients.reset_index()\n",
    "top_clients_info.columns = ['client_id', 'entry_count']\n",
    "top_clients_info = top_clients_info.merge(data[['client_id', 'first', 'last']].drop_duplicates(), on='client_id')\n",
    "\n",
    "print(\"\\nTop 5 Clients:\")\n",
    "print(top_clients_info)"
   ]
  },
  {
   "cell_type": "code",
   "execution_count": 202,
   "id": "a6635601",
   "metadata": {},
   "outputs": [],
   "source": [
    "# Store the client ids of those top 5 clients in a list.\n",
    "top_clients_ids = top_clients.index.tolist()\n"
   ]
  },
  {
   "cell_type": "code",
   "execution_count": 203,
   "id": "c88b8a3e",
   "metadata": {},
   "outputs": [
    {
     "name": "stdout",
     "output_type": "stream",
     "text": [
      "Client with the most entries: Jessica Reyes\n",
      "Total units ordered by the client with the most entries: 64313\n"
     ]
    }
   ],
   "source": [
    "# Find the client with the most entries\n",
    "client_with_most_entries = client_dataset['client_id'].value_counts().idxmax()\n",
    "\n",
    "# Retrieve client's first and last name\n",
    "client_info = client_dataset.loc[client_dataset['client_id'] == client_with_most_entries, ['first', 'last']].iloc[0]\n",
    "\n",
    "# Calculate the total units ordered by the client with the most entries\n",
    "total_units_most_entries = client_dataset[client_dataset['client_id'] == client_with_most_entries]['qty'].sum()\n",
    "\n",
    "# Print client's first and last name\n",
    "print(\"Client with the most entries:\", client_info['first'], client_info['last'])\n",
    "\n",
    "# Print total units ordered by the client with the most entries\n",
    "print(\"Total units ordered by the client with the most entries:\", total_units_most_entries)"
   ]
  },
  {
   "cell_type": "markdown",
   "id": "257fcd7d",
   "metadata": {},
   "source": [
    "## Part 2: Transform the Data\n",
    "Do we know that this client spent the more money than client 66037? If not, how would we find out? Transform the data using the steps below to prepare it for analysis."
   ]
  },
  {
   "cell_type": "code",
   "execution_count": 204,
   "id": "0c25c4a8",
   "metadata": {},
   "outputs": [],
   "source": [
    "# Create a column that calculates the \n",
    "# subtotal for each line using the unit_price\n",
    "# and the qty\n",
    "data['subtotal'] = data['unit_price'] * data['qty']"
   ]
  },
  {
   "cell_type": "code",
   "execution_count": 205,
   "id": "ac9dafc8",
   "metadata": {},
   "outputs": [],
   "source": [
    "# Create a column for shipping price.\n",
    "# Assume a shipping price of $7 per pound\n",
    "# for orders over 50 pounds and $10 per\n",
    "# pound for items 50 pounds or under.\n",
    "data['shipping_price'] = data['unit_weight'].apply(lambda x: 7 if x > 50 else 10) * data['unit_weight']\n"
   ]
  },
  {
   "cell_type": "code",
   "execution_count": 206,
   "id": "77f42c67",
   "metadata": {},
   "outputs": [],
   "source": [
    "# Create a column for the total price\n",
    "# using the subtotal and the shipping price\n",
    "# along with a sales tax of 9.25%\n",
    "client_dataset['total_price'] = client_dataset['subtotal'] + client_dataset['shipping_price']\n",
    "client_dataset['total_price'] *= 1 + 0.0925  # Add 9.25% sales tax\n"
   ]
  },
  {
   "cell_type": "code",
   "execution_count": 207,
   "id": "c82ad275",
   "metadata": {},
   "outputs": [],
   "source": [
    "# Create a column for the cost\n",
    "# of each line using unit cost, qty, and\n",
    "# shipping price (assume the shipping cost\n",
    "# is exactly what is charged to the client).\n",
    "client_dataset['line_cost'] = client_dataset['unit_cost'] * client_dataset['qty'] + client_dataset['shipping_price']\n",
    "\n"
   ]
  },
  {
   "cell_type": "code",
   "execution_count": 214,
   "id": "e2389018",
   "metadata": {},
   "outputs": [],
   "source": [
    "# Create a column for the profit of\n",
    "# each line using line cost and line price\n",
    "client_dataset['line_profit'] = client_dataset['total_price'] - client_dataset['line_cost']\n",
    "\n"
   ]
  },
  {
   "cell_type": "markdown",
   "id": "ef6f62b1",
   "metadata": {},
   "source": [
    "## Part 3: Confirm your work\n",
    "You have email receipts showing that the total prices for 3 orders. Confirm that your calculations match the receipts. Remember, each order has multiple lines.\n",
    "\n",
    "Order ID 2742071 had a total price of \\$152,811.89\n",
    "\n",
    "Order ID 2173913 had a total price of \\$162,388.71\n",
    "\n",
    "Order ID 6128929 had a total price of \\$923,441.25\n"
   ]
  },
  {
   "cell_type": "code",
   "execution_count": 215,
   "id": "c0e5d68e",
   "metadata": {},
   "outputs": [
    {
     "name": "stdout",
     "output_type": "stream",
     "text": [
      "Confirmed Total Price for Order ID 2742071: False\n",
      "Actual Total Price for Order ID 2742071: $152811.89\n",
      "Corrected Total Price for Order ID 2742071: $143312.33\n",
      "--------------------------------------------------------\n",
      "Confirmed Total Price for Order ID 2173913: False\n",
      "Actual Total Price for Order ID 2173913: $162388.71\n",
      "Corrected Total Price for Order ID 2173913: $129190.05\n",
      "--------------------------------------------------------\n",
      "Confirmed Total Price for Order ID 6128929: False\n",
      "Actual Total Price for Order ID 6128929: $923441.25\n",
      "Corrected Total Price for Order ID 6128929: $787923.31\n",
      "--------------------------------------------------------\n"
     ]
    }
   ],
   "source": [
    "# Check your work using the totals above\n",
    "# Confirm total prices for specific orders\n",
    "order_total_prices = {\n",
    "    2742071: 152811.89,\n",
    "    2173913: 162388.71,\n",
    "    6128929: 923441.25\n",
    "}\n",
    "\n",
    "# Corrected total prices for specific orders\n",
    "corrected_total_prices = {\n",
    "    2742071: 152811.88,  # Corrected total price for Order ID 2742071\n",
    "    2173913: 162388.71,  # Total price for Order ID 2173913 remains the same\n",
    "    6128929: 923441.24   # Corrected total price for Order ID 6128929\n",
    "}\n",
    "\n",
    "for order_id, total_price in order_total_prices.items():\n",
    "    calculated_total_price = client_dataset[client_dataset['order_id'] == order_id]['total_price'].sum()\n",
    "    actual_total_price = total_price\n",
    "    price_is_correct = calculated_total_price == actual_total_price\n",
    "    print(f\"Confirmed Total Price for Order ID {order_id}: {price_is_correct}\")\n",
    "    print(f\"Actual Total Price for Order ID {order_id}: ${actual_total_price:.2f}\")\n",
    "    if price_is_correct:\n",
    "        print(\"Price is correct\")\n",
    "    else:\n",
    "        print(f\"Corrected Total Price for Order ID {order_id}: ${calculated_total_price:.2f}\")\n",
    "    print(\"--------------------------------------------------------\")"
   ]
  },
  {
   "cell_type": "markdown",
   "id": "b94d58ab",
   "metadata": {},
   "source": [
    "## Part 4: Summarize and Analyze\n",
    "Use the new columns with confirmed values to find the following information."
   ]
  },
  {
   "cell_type": "code",
   "execution_count": 223,
   "id": "7c005f34",
   "metadata": {},
   "outputs": [
    {
     "name": "stdout",
     "output_type": "stream",
     "text": [
      "Client ID: 33615, Name: Jessica Reyes, Total Revenue: $6880713.70\n",
      "Client ID: 46820, Name: Bryan Myers, Total Revenue: $8581555.85\n",
      "Client ID: 66037, Name: Angela Everett, Total Revenue: $9072226.39\n",
      "Client ID: 24741, Name: Kendra Garrett, Total Revenue: $78510051.37\n",
      "Client ID: 38378, Name: Alexandra Young, Total Revenue: $9731160.96\n"
     ]
    }
   ],
   "source": [
    "# How much did each of the top 5 clients by quantity\n",
    "# spend? Check your work from Part 1 for client ids.\n",
    "# Calculate total revenue from each of the top 5 clients\n",
    "top_clients_units = data[data['client_id'].isin(top_5_clients_ids)].groupby('client_id')['qty'].sum()\n",
    "\n",
    "# Merge 'first' and 'last' columns with 'client_id'\n",
    "top_clients_info = client_dataset[['client_id', 'first', 'last']].drop_duplicates().set_index('client_id')\n",
    "\n",
    "# Merge with top clients' revenue\n",
    "top_clients_info = top_clients_info.merge(top_clients_revenue, how='inner', left_index=True, right_index=True)\n",
    "\n",
    "# Print the results along with names\n",
    "for client_id, row in top_clients_info.iterrows():\n",
    "    print(f\"Client ID: {client_id}, Name: {row['first']} {row['last']}, Total Revenue: ${row['total_price']:.2f}\")"
   ]
  },
  {
   "cell_type": "code",
   "execution_count": 231,
   "id": "3d31e617-33f4-47b8-850c-1e16ceca3e51",
   "metadata": {},
   "outputs": [
    {
     "name": "stdout",
     "output_type": "stream",
     "text": [
      "\n",
      "Top 5 Clients with Total Units Purchased:\n",
      "Client ID: 24741, Name: Kendra Garrett, Total Units Purchased: 239862\n",
      "----------------------------------------------------------------------\n",
      "Client ID: 33615, Name: Jessica Reyes, Total Units Purchased: 64313\n",
      "----------------------------------------------------------------------\n",
      "Client ID: 38378, Name: Alexandra Young, Total Units Purchased: 73667\n",
      "----------------------------------------------------------------------\n",
      "Client ID: 46820, Name: Bryan Myers, Total Units Purchased: 75768\n",
      "----------------------------------------------------------------------\n",
      "Client ID: 66037, Name: Angela Everett, Total Units Purchased: 43018\n",
      "----------------------------------------------------------------------\n"
     ]
    }
   ],
   "source": [
    "# Calculate total units purchased by each of the top 5 clients\n",
    "top_clients_units_purchased = data[data['client_id'].isin(top_clients_ids)].groupby('client_id')['qty'].sum()\n",
    "\n",
    "# Merge total units purchased with client names\n",
    "top_clients_info = top_clients_units_purchased.reset_index()\n",
    "top_clients_info = top_clients_info.merge(data[['client_id', 'first', 'last']].drop_duplicates(), on='client_id')\n",
    "\n",
    "# Print first and last name with client ID along with total units purchased\n",
    "print(\"\\nTop 5 Clients with Total Units Purchased:\")\n",
    "for _, row in top_clients_info.iterrows():\n",
    "    print(f\"Client ID: {row['client_id']}, Name: {row['first']} {row['last']}, Total Units Purchased: {row['qty']}\")\n",
    "    print(\"----------------------------------------------------------------------\")"
   ]
  },
  {
   "cell_type": "code",
   "execution_count": 228,
   "id": "e6dc0939-5994-4485-b2b8-55c2c0ad3a88",
   "metadata": {},
   "outputs": [
    {
     "ename": "KeyError",
     "evalue": "'line_cost'",
     "output_type": "error",
     "traceback": [
      "\u001b[1;31m---------------------------------------------------------------------------\u001b[0m",
      "\u001b[1;31mKeyError\u001b[0m                                  Traceback (most recent call last)",
      "File \u001b[1;32m~\\anaconda3\\Lib\\site-packages\\pandas\\core\\indexes\\base.py:3791\u001b[0m, in \u001b[0;36mIndex.get_loc\u001b[1;34m(self, key)\u001b[0m\n\u001b[0;32m   3790\u001b[0m \u001b[38;5;28;01mtry\u001b[39;00m:\n\u001b[1;32m-> 3791\u001b[0m     \u001b[38;5;28;01mreturn\u001b[39;00m \u001b[38;5;28mself\u001b[39m\u001b[38;5;241m.\u001b[39m_engine\u001b[38;5;241m.\u001b[39mget_loc(casted_key)\n\u001b[0;32m   3792\u001b[0m \u001b[38;5;28;01mexcept\u001b[39;00m \u001b[38;5;167;01mKeyError\u001b[39;00m \u001b[38;5;28;01mas\u001b[39;00m err:\n",
      "File \u001b[1;32mindex.pyx:152\u001b[0m, in \u001b[0;36mpandas._libs.index.IndexEngine.get_loc\u001b[1;34m()\u001b[0m\n",
      "File \u001b[1;32mindex.pyx:181\u001b[0m, in \u001b[0;36mpandas._libs.index.IndexEngine.get_loc\u001b[1;34m()\u001b[0m\n",
      "File \u001b[1;32mpandas\\_libs\\hashtable_class_helper.pxi:7080\u001b[0m, in \u001b[0;36mpandas._libs.hashtable.PyObjectHashTable.get_item\u001b[1;34m()\u001b[0m\n",
      "File \u001b[1;32mpandas\\_libs\\hashtable_class_helper.pxi:7088\u001b[0m, in \u001b[0;36mpandas._libs.hashtable.PyObjectHashTable.get_item\u001b[1;34m()\u001b[0m\n",
      "\u001b[1;31mKeyError\u001b[0m: 'line_cost'",
      "\nThe above exception was the direct cause of the following exception:\n",
      "\u001b[1;31mKeyError\u001b[0m                                  Traceback (most recent call last)",
      "Cell \u001b[1;32mIn[228], line 6\u001b[0m\n\u001b[0;32m      3\u001b[0m data[\u001b[38;5;124m'\u001b[39m\u001b[38;5;124mtotal_price\u001b[39m\u001b[38;5;124m'\u001b[39m] \u001b[38;5;241m*\u001b[39m\u001b[38;5;241m=\u001b[39m \u001b[38;5;241m1\u001b[39m \u001b[38;5;241m+\u001b[39m \u001b[38;5;241m0.0925\u001b[39m  \u001b[38;5;66;03m# Add 9.25% sales tax\u001b[39;00m\n\u001b[0;32m      5\u001b[0m \u001b[38;5;66;03m# Add column named 'profit' that calculates the total profit\u001b[39;00m\n\u001b[1;32m----> 6\u001b[0m data[\u001b[38;5;124m'\u001b[39m\u001b[38;5;124mprofit\u001b[39m\u001b[38;5;124m'\u001b[39m] \u001b[38;5;241m=\u001b[39m data[\u001b[38;5;124m'\u001b[39m\u001b[38;5;124mtotal_price\u001b[39m\u001b[38;5;124m'\u001b[39m] \u001b[38;5;241m-\u001b[39m data[\u001b[38;5;124m'\u001b[39m\u001b[38;5;124mline_cost\u001b[39m\u001b[38;5;124m'\u001b[39m]\n\u001b[0;32m      8\u001b[0m \u001b[38;5;66;03m# Create a summary DataFrame for the top 5 clients\u001b[39;00m\n\u001b[0;32m      9\u001b[0m summary_df \u001b[38;5;241m=\u001b[39m pd\u001b[38;5;241m.\u001b[39mDataFrame({\n\u001b[0;32m     10\u001b[0m     \u001b[38;5;124m'\u001b[39m\u001b[38;5;124mTotal Units Purchased\u001b[39m\u001b[38;5;124m'\u001b[39m: top_clients_units,\n\u001b[0;32m     11\u001b[0m     \u001b[38;5;124m'\u001b[39m\u001b[38;5;124mTotal Shipping Price\u001b[39m\u001b[38;5;124m'\u001b[39m: data\u001b[38;5;241m.\u001b[39mgroupby(\u001b[38;5;124m'\u001b[39m\u001b[38;5;124mclient_id\u001b[39m\u001b[38;5;124m'\u001b[39m)[\u001b[38;5;124m'\u001b[39m\u001b[38;5;124mshipping_price\u001b[39m\u001b[38;5;124m'\u001b[39m]\u001b[38;5;241m.\u001b[39msum()\u001b[38;5;241m.\u001b[39mloc[top_5_clients_ids],\n\u001b[0;32m     12\u001b[0m     \u001b[38;5;124m'\u001b[39m\u001b[38;5;124mTotal Revenue\u001b[39m\u001b[38;5;124m'\u001b[39m: top_clients_revenue,\n\u001b[0;32m     13\u001b[0m     \u001b[38;5;124m'\u001b[39m\u001b[38;5;124mTotal Profit\u001b[39m\u001b[38;5;124m'\u001b[39m: data\u001b[38;5;241m.\u001b[39mgroupby(\u001b[38;5;124m'\u001b[39m\u001b[38;5;124mclient_id\u001b[39m\u001b[38;5;124m'\u001b[39m)[\u001b[38;5;124m'\u001b[39m\u001b[38;5;124mprofit\u001b[39m\u001b[38;5;124m'\u001b[39m]\u001b[38;5;241m.\u001b[39msum()\u001b[38;5;241m.\u001b[39mloc[top_5_clients_ids]\n\u001b[0;32m     14\u001b[0m })\n",
      "File \u001b[1;32m~\\anaconda3\\Lib\\site-packages\\pandas\\core\\frame.py:3893\u001b[0m, in \u001b[0;36mDataFrame.__getitem__\u001b[1;34m(self, key)\u001b[0m\n\u001b[0;32m   3891\u001b[0m \u001b[38;5;28;01mif\u001b[39;00m \u001b[38;5;28mself\u001b[39m\u001b[38;5;241m.\u001b[39mcolumns\u001b[38;5;241m.\u001b[39mnlevels \u001b[38;5;241m>\u001b[39m \u001b[38;5;241m1\u001b[39m:\n\u001b[0;32m   3892\u001b[0m     \u001b[38;5;28;01mreturn\u001b[39;00m \u001b[38;5;28mself\u001b[39m\u001b[38;5;241m.\u001b[39m_getitem_multilevel(key)\n\u001b[1;32m-> 3893\u001b[0m indexer \u001b[38;5;241m=\u001b[39m \u001b[38;5;28mself\u001b[39m\u001b[38;5;241m.\u001b[39mcolumns\u001b[38;5;241m.\u001b[39mget_loc(key)\n\u001b[0;32m   3894\u001b[0m \u001b[38;5;28;01mif\u001b[39;00m is_integer(indexer):\n\u001b[0;32m   3895\u001b[0m     indexer \u001b[38;5;241m=\u001b[39m [indexer]\n",
      "File \u001b[1;32m~\\anaconda3\\Lib\\site-packages\\pandas\\core\\indexes\\base.py:3798\u001b[0m, in \u001b[0;36mIndex.get_loc\u001b[1;34m(self, key)\u001b[0m\n\u001b[0;32m   3793\u001b[0m     \u001b[38;5;28;01mif\u001b[39;00m \u001b[38;5;28misinstance\u001b[39m(casted_key, \u001b[38;5;28mslice\u001b[39m) \u001b[38;5;129;01mor\u001b[39;00m (\n\u001b[0;32m   3794\u001b[0m         \u001b[38;5;28misinstance\u001b[39m(casted_key, abc\u001b[38;5;241m.\u001b[39mIterable)\n\u001b[0;32m   3795\u001b[0m         \u001b[38;5;129;01mand\u001b[39;00m \u001b[38;5;28many\u001b[39m(\u001b[38;5;28misinstance\u001b[39m(x, \u001b[38;5;28mslice\u001b[39m) \u001b[38;5;28;01mfor\u001b[39;00m x \u001b[38;5;129;01min\u001b[39;00m casted_key)\n\u001b[0;32m   3796\u001b[0m     ):\n\u001b[0;32m   3797\u001b[0m         \u001b[38;5;28;01mraise\u001b[39;00m InvalidIndexError(key)\n\u001b[1;32m-> 3798\u001b[0m     \u001b[38;5;28;01mraise\u001b[39;00m \u001b[38;5;167;01mKeyError\u001b[39;00m(key) \u001b[38;5;28;01mfrom\u001b[39;00m \u001b[38;5;21;01merr\u001b[39;00m\n\u001b[0;32m   3799\u001b[0m \u001b[38;5;28;01mexcept\u001b[39;00m \u001b[38;5;167;01mTypeError\u001b[39;00m:\n\u001b[0;32m   3800\u001b[0m     \u001b[38;5;66;03m# If we have a listlike key, _check_indexing_error will raise\u001b[39;00m\n\u001b[0;32m   3801\u001b[0m     \u001b[38;5;66;03m#  InvalidIndexError. Otherwise we fall through and re-raise\u001b[39;00m\n\u001b[0;32m   3802\u001b[0m     \u001b[38;5;66;03m#  the TypeError.\u001b[39;00m\n\u001b[0;32m   3803\u001b[0m     \u001b[38;5;28mself\u001b[39m\u001b[38;5;241m.\u001b[39m_check_indexing_error(key)\n",
      "\u001b[1;31mKeyError\u001b[0m: 'line_cost'"
     ]
    }
   ],
   "source": [
    "# Add column named 'total_price' that calculates the total price\n",
    "data['total_price'] = data['subtotal'] + data['shipping_price']\n",
    "data['total_price'] *= 1 + 0.0925  # Add 9.25% sales tax\n",
    "\n",
    "# Add column named 'profit' that calculates the total profit\n",
    "data['profit'] = data['total_price'] - data['line_cost']\n",
    "\n",
    "# Create a summary DataFrame for the top 5 clients\n",
    "summary_df = pd.DataFrame({\n",
    "    'Total Units Purchased': top_clients_units,\n",
    "    'Total Shipping Price': data.groupby('client_id')['shipping_price'].sum().loc[top_5_clients_ids],\n",
    "    'Total Revenue': top_clients_revenue,\n",
    "    'Total Profit': data.groupby('client_id')['profit'].sum().loc[top_5_clients_ids]\n",
    "})\n"
   ]
  },
  {
   "cell_type": "code",
   "execution_count": 221,
   "id": "56842eb2-3620-4957-af57-f1e9fa9bff59",
   "metadata": {},
   "outputs": [
    {
     "name": "stdout",
     "output_type": "stream",
     "text": [
      "\n",
      "Summary DataFrame for Top 5 Clients (Sorted by Total Profit):\n",
      "          Total Units Purchased (Millions) Total Shipping Price (Millions)  \\\n",
      "client_id                                                                    \n",
      "24741                               $0.00M                          $3.51M   \n",
      "33615                               $0.00M                          $3.51M   \n",
      "38378                               $0.00M                          $3.51M   \n",
      "46820                               $0.00M                          $3.51M   \n",
      "66037                               $0.00M                          $3.51M   \n",
      "\n",
      "          Total Revenue (Millions) Total Profit (Millions)  \n",
      "client_id                                                   \n",
      "24741                     $112.78M                 $47.13M  \n",
      "33615                     $112.78M                 $47.13M  \n",
      "38378                     $112.78M                 $47.13M  \n",
      "46820                     $112.78M                 $47.13M  \n",
      "66037                     $112.78M                 $47.13M  \n"
     ]
    },
    {
     "name": "stderr",
     "output_type": "stream",
     "text": [
      "C:\\Users\\HP\\AppData\\Local\\Temp\\ipykernel_9104\\3029900295.py:5: FutureWarning: DataFrame.applymap has been deprecated. Use DataFrame.map instead.\n",
      "  summary_df = summary_df.applymap(lambda x: '${:,.2f}M'.format(x / 10**6))\n"
     ]
    }
   ],
   "source": [
    "# Sort by total profit\n",
    "summary_df = summary_df.sort_values(by='Total Profit', ascending=False)\n",
    "\n",
    "# Format the data and rename the columns\n",
    "summary_df = summary_df.applymap(lambda x: '${:,.2f}M'.format(x / 10**6))\n",
    "summary_df.columns = ['Total Units Purchased (Millions)', 'Total Shipping Price (Millions)', 'Total Revenue (Millions)', 'Total Profit (Millions)']\n",
    "\n",
    "# Display the summary DataFrame\n",
    "print(\"\\nSummary DataFrame for Top 5 Clients (Sorted by Total Profit):\")\n",
    "print(summary_df)"
   ]
  },
  {
   "cell_type": "code",
   "execution_count": 212,
   "id": "7be02867",
   "metadata": {},
   "outputs": [
    {
     "ename": "KeyError",
     "evalue": "'Total Units Purchased (units)'",
     "output_type": "error",
     "traceback": [
      "\u001b[1;31m---------------------------------------------------------------------------\u001b[0m",
      "\u001b[1;31mKeyError\u001b[0m                                  Traceback (most recent call last)",
      "File \u001b[1;32m~\\anaconda3\\Lib\\site-packages\\pandas\\core\\indexes\\base.py:3791\u001b[0m, in \u001b[0;36mIndex.get_loc\u001b[1;34m(self, key)\u001b[0m\n\u001b[0;32m   3790\u001b[0m \u001b[38;5;28;01mtry\u001b[39;00m:\n\u001b[1;32m-> 3791\u001b[0m     \u001b[38;5;28;01mreturn\u001b[39;00m \u001b[38;5;28mself\u001b[39m\u001b[38;5;241m.\u001b[39m_engine\u001b[38;5;241m.\u001b[39mget_loc(casted_key)\n\u001b[0;32m   3792\u001b[0m \u001b[38;5;28;01mexcept\u001b[39;00m \u001b[38;5;167;01mKeyError\u001b[39;00m \u001b[38;5;28;01mas\u001b[39;00m err:\n",
      "File \u001b[1;32mindex.pyx:152\u001b[0m, in \u001b[0;36mpandas._libs.index.IndexEngine.get_loc\u001b[1;34m()\u001b[0m\n",
      "File \u001b[1;32mindex.pyx:181\u001b[0m, in \u001b[0;36mpandas._libs.index.IndexEngine.get_loc\u001b[1;34m()\u001b[0m\n",
      "File \u001b[1;32mpandas\\_libs\\hashtable_class_helper.pxi:7080\u001b[0m, in \u001b[0;36mpandas._libs.hashtable.PyObjectHashTable.get_item\u001b[1;34m()\u001b[0m\n",
      "File \u001b[1;32mpandas\\_libs\\hashtable_class_helper.pxi:7088\u001b[0m, in \u001b[0;36mpandas._libs.hashtable.PyObjectHashTable.get_item\u001b[1;34m()\u001b[0m\n",
      "\u001b[1;31mKeyError\u001b[0m: 'Total Units Purchased (units)'",
      "\nThe above exception was the direct cause of the following exception:\n",
      "\u001b[1;31mKeyError\u001b[0m                                  Traceback (most recent call last)",
      "Cell \u001b[1;32mIn[212], line 4\u001b[0m\n\u001b[0;32m      1\u001b[0m \u001b[38;5;66;03m# Format the data and rename the columns\u001b[39;00m\n\u001b[0;32m      2\u001b[0m \u001b[38;5;66;03m# to names suitable for presentation.\u001b[39;00m\n\u001b[0;32m      3\u001b[0m \u001b[38;5;66;03m# Currency should be in millions of dollars.\u001b[39;00m\n\u001b[1;32m----> 4\u001b[0m summary_df[\u001b[38;5;124m'\u001b[39m\u001b[38;5;124mTotal Units Purchased (units)\u001b[39m\u001b[38;5;124m'\u001b[39m] \u001b[38;5;241m=\u001b[39m summary_df[\u001b[38;5;124m'\u001b[39m\u001b[38;5;124mTotal Units Purchased (units)\u001b[39m\u001b[38;5;124m'\u001b[39m]\u001b[38;5;241m.\u001b[39mastype(\u001b[38;5;28mint\u001b[39m)\n\u001b[0;32m      5\u001b[0m summary_df[\u001b[38;5;124m'\u001b[39m\u001b[38;5;124mTotal Shipping Price (millions $)\u001b[39m\u001b[38;5;124m'\u001b[39m] \u001b[38;5;241m=\u001b[39m summary_df[\u001b[38;5;124m'\u001b[39m\u001b[38;5;124mTotal Shipping Price (millions $)\u001b[39m\u001b[38;5;124m'\u001b[39m] \u001b[38;5;241m/\u001b[39m \u001b[38;5;241m1e6\u001b[39m  \u001b[38;5;66;03m# Convert shipping price to millions\u001b[39;00m\n\u001b[0;32m      6\u001b[0m summary_df[\u001b[38;5;124m'\u001b[39m\u001b[38;5;124mTotal Revenue (millions $)\u001b[39m\u001b[38;5;124m'\u001b[39m] \u001b[38;5;241m=\u001b[39m summary_df[\u001b[38;5;124m'\u001b[39m\u001b[38;5;124mTotal Revenue (millions $)\u001b[39m\u001b[38;5;124m'\u001b[39m] \u001b[38;5;241m/\u001b[39m \u001b[38;5;241m1e6\u001b[39m  \u001b[38;5;66;03m# Convert revenue to millions\u001b[39;00m\n",
      "File \u001b[1;32m~\\anaconda3\\Lib\\site-packages\\pandas\\core\\frame.py:3893\u001b[0m, in \u001b[0;36mDataFrame.__getitem__\u001b[1;34m(self, key)\u001b[0m\n\u001b[0;32m   3891\u001b[0m \u001b[38;5;28;01mif\u001b[39;00m \u001b[38;5;28mself\u001b[39m\u001b[38;5;241m.\u001b[39mcolumns\u001b[38;5;241m.\u001b[39mnlevels \u001b[38;5;241m>\u001b[39m \u001b[38;5;241m1\u001b[39m:\n\u001b[0;32m   3892\u001b[0m     \u001b[38;5;28;01mreturn\u001b[39;00m \u001b[38;5;28mself\u001b[39m\u001b[38;5;241m.\u001b[39m_getitem_multilevel(key)\n\u001b[1;32m-> 3893\u001b[0m indexer \u001b[38;5;241m=\u001b[39m \u001b[38;5;28mself\u001b[39m\u001b[38;5;241m.\u001b[39mcolumns\u001b[38;5;241m.\u001b[39mget_loc(key)\n\u001b[0;32m   3894\u001b[0m \u001b[38;5;28;01mif\u001b[39;00m is_integer(indexer):\n\u001b[0;32m   3895\u001b[0m     indexer \u001b[38;5;241m=\u001b[39m [indexer]\n",
      "File \u001b[1;32m~\\anaconda3\\Lib\\site-packages\\pandas\\core\\indexes\\base.py:3798\u001b[0m, in \u001b[0;36mIndex.get_loc\u001b[1;34m(self, key)\u001b[0m\n\u001b[0;32m   3793\u001b[0m     \u001b[38;5;28;01mif\u001b[39;00m \u001b[38;5;28misinstance\u001b[39m(casted_key, \u001b[38;5;28mslice\u001b[39m) \u001b[38;5;129;01mor\u001b[39;00m (\n\u001b[0;32m   3794\u001b[0m         \u001b[38;5;28misinstance\u001b[39m(casted_key, abc\u001b[38;5;241m.\u001b[39mIterable)\n\u001b[0;32m   3795\u001b[0m         \u001b[38;5;129;01mand\u001b[39;00m \u001b[38;5;28many\u001b[39m(\u001b[38;5;28misinstance\u001b[39m(x, \u001b[38;5;28mslice\u001b[39m) \u001b[38;5;28;01mfor\u001b[39;00m x \u001b[38;5;129;01min\u001b[39;00m casted_key)\n\u001b[0;32m   3796\u001b[0m     ):\n\u001b[0;32m   3797\u001b[0m         \u001b[38;5;28;01mraise\u001b[39;00m InvalidIndexError(key)\n\u001b[1;32m-> 3798\u001b[0m     \u001b[38;5;28;01mraise\u001b[39;00m \u001b[38;5;167;01mKeyError\u001b[39;00m(key) \u001b[38;5;28;01mfrom\u001b[39;00m \u001b[38;5;21;01merr\u001b[39;00m\n\u001b[0;32m   3799\u001b[0m \u001b[38;5;28;01mexcept\u001b[39;00m \u001b[38;5;167;01mTypeError\u001b[39;00m:\n\u001b[0;32m   3800\u001b[0m     \u001b[38;5;66;03m# If we have a listlike key, _check_indexing_error will raise\u001b[39;00m\n\u001b[0;32m   3801\u001b[0m     \u001b[38;5;66;03m#  InvalidIndexError. Otherwise we fall through and re-raise\u001b[39;00m\n\u001b[0;32m   3802\u001b[0m     \u001b[38;5;66;03m#  the TypeError.\u001b[39;00m\n\u001b[0;32m   3803\u001b[0m     \u001b[38;5;28mself\u001b[39m\u001b[38;5;241m.\u001b[39m_check_indexing_error(key)\n",
      "\u001b[1;31mKeyError\u001b[0m: 'Total Units Purchased (units)'"
     ]
    }
   ],
   "source": [
    "# Format the data and rename the columns\n",
    "# to names suitable for presentation.\n",
    "# Currency should be in millions of dollars.\n",
    "summary_df['Total Units Purchased (units)'] = summary_df['Total Units Purchased (units)'].astype(int)\n",
    "summary_df['Total Shipping Price (millions $)'] = summary_df['Total Shipping Price (millions $)'] / 1e6  # Convert shipping price to millions\n",
    "summary_df['Total Revenue (millions $)'] = summary_df['Total Revenue (millions $)'] / 1e6  # Convert revenue to millions\n",
    "summary_df['Total Profit (millions $)'] = summary_df['Total Profit (millions $)'] / 1e6  # Convert profit to millions\n"
   ]
  },
  {
   "cell_type": "code",
   "execution_count": 145,
   "id": "8ead0986",
   "metadata": {},
   "outputs": [
    {
     "ename": "KeyError",
     "evalue": "'Total Profit (millions $)'",
     "output_type": "error",
     "traceback": [
      "\u001b[1;31m---------------------------------------------------------------------------\u001b[0m",
      "\u001b[1;31mKeyError\u001b[0m                                  Traceback (most recent call last)",
      "\u001b[1;32m~\\AppData\\Local\\Temp\\ipykernel_9104\\680171888.py\u001b[0m in \u001b[0;36m?\u001b[1;34m()\u001b[0m\n\u001b[0;32m      1\u001b[0m \u001b[1;31m# Sort the updated data by \"Total Profit\" form highest to lowest\u001b[0m\u001b[1;33m\u001b[0m\u001b[1;33m\u001b[0m\u001b[0m\n\u001b[1;32m----> 2\u001b[1;33m \u001b[0msummary_df\u001b[0m \u001b[1;33m=\u001b[0m \u001b[0msummary_df\u001b[0m\u001b[1;33m.\u001b[0m\u001b[0msort_values\u001b[0m\u001b[1;33m(\u001b[0m\u001b[0mby\u001b[0m\u001b[1;33m=\u001b[0m\u001b[1;34m'Total Profit (millions $)'\u001b[0m\u001b[1;33m,\u001b[0m \u001b[0mascending\u001b[0m\u001b[1;33m=\u001b[0m\u001b[1;32mFalse\u001b[0m\u001b[1;33m)\u001b[0m\u001b[1;33m\u001b[0m\u001b[1;33m\u001b[0m\u001b[0m\n\u001b[0m",
      "\u001b[1;32m~\\anaconda3\\Lib\\site-packages\\pandas\\core\\frame.py\u001b[0m in \u001b[0;36m?\u001b[1;34m(self, by, axis, ascending, inplace, kind, na_position, ignore_index, key)\u001b[0m\n\u001b[0;32m   6940\u001b[0m             )\n\u001b[0;32m   6941\u001b[0m         \u001b[1;32melif\u001b[0m \u001b[0mlen\u001b[0m\u001b[1;33m(\u001b[0m\u001b[0mby\u001b[0m\u001b[1;33m)\u001b[0m\u001b[1;33m:\u001b[0m\u001b[1;33m\u001b[0m\u001b[1;33m\u001b[0m\u001b[0m\n\u001b[0;32m   6942\u001b[0m             \u001b[1;31m# len(by) == 1\u001b[0m\u001b[1;33m\u001b[0m\u001b[1;33m\u001b[0m\u001b[0m\n\u001b[0;32m   6943\u001b[0m \u001b[1;33m\u001b[0m\u001b[0m\n\u001b[1;32m-> 6944\u001b[1;33m             \u001b[0mk\u001b[0m \u001b[1;33m=\u001b[0m \u001b[0mself\u001b[0m\u001b[1;33m.\u001b[0m\u001b[0m_get_label_or_level_values\u001b[0m\u001b[1;33m(\u001b[0m\u001b[0mby\u001b[0m\u001b[1;33m[\u001b[0m\u001b[1;36m0\u001b[0m\u001b[1;33m]\u001b[0m\u001b[1;33m,\u001b[0m \u001b[0maxis\u001b[0m\u001b[1;33m=\u001b[0m\u001b[0maxis\u001b[0m\u001b[1;33m)\u001b[0m\u001b[1;33m\u001b[0m\u001b[1;33m\u001b[0m\u001b[0m\n\u001b[0m\u001b[0;32m   6945\u001b[0m \u001b[1;33m\u001b[0m\u001b[0m\n\u001b[0;32m   6946\u001b[0m             \u001b[1;31m# need to rewrap column in Series to apply key function\u001b[0m\u001b[1;33m\u001b[0m\u001b[1;33m\u001b[0m\u001b[0m\n\u001b[0;32m   6947\u001b[0m             \u001b[1;32mif\u001b[0m \u001b[0mkey\u001b[0m \u001b[1;32mis\u001b[0m \u001b[1;32mnot\u001b[0m \u001b[1;32mNone\u001b[0m\u001b[1;33m:\u001b[0m\u001b[1;33m\u001b[0m\u001b[1;33m\u001b[0m\u001b[0m\n",
      "\u001b[1;32m~\\anaconda3\\Lib\\site-packages\\pandas\\core\\generic.py\u001b[0m in \u001b[0;36m?\u001b[1;34m(self, key, axis)\u001b[0m\n\u001b[0;32m   1840\u001b[0m             \u001b[0mvalues\u001b[0m \u001b[1;33m=\u001b[0m \u001b[0mself\u001b[0m\u001b[1;33m.\u001b[0m\u001b[0mxs\u001b[0m\u001b[1;33m(\u001b[0m\u001b[0mkey\u001b[0m\u001b[1;33m,\u001b[0m \u001b[0maxis\u001b[0m\u001b[1;33m=\u001b[0m\u001b[0mother_axes\u001b[0m\u001b[1;33m[\u001b[0m\u001b[1;36m0\u001b[0m\u001b[1;33m]\u001b[0m\u001b[1;33m)\u001b[0m\u001b[1;33m.\u001b[0m\u001b[0m_values\u001b[0m\u001b[1;33m\u001b[0m\u001b[1;33m\u001b[0m\u001b[0m\n\u001b[0;32m   1841\u001b[0m         \u001b[1;32melif\u001b[0m \u001b[0mself\u001b[0m\u001b[1;33m.\u001b[0m\u001b[0m_is_level_reference\u001b[0m\u001b[1;33m(\u001b[0m\u001b[0mkey\u001b[0m\u001b[1;33m,\u001b[0m \u001b[0maxis\u001b[0m\u001b[1;33m=\u001b[0m\u001b[0maxis\u001b[0m\u001b[1;33m)\u001b[0m\u001b[1;33m:\u001b[0m\u001b[1;33m\u001b[0m\u001b[1;33m\u001b[0m\u001b[0m\n\u001b[0;32m   1842\u001b[0m             \u001b[0mvalues\u001b[0m \u001b[1;33m=\u001b[0m \u001b[0mself\u001b[0m\u001b[1;33m.\u001b[0m\u001b[0maxes\u001b[0m\u001b[1;33m[\u001b[0m\u001b[0maxis\u001b[0m\u001b[1;33m]\u001b[0m\u001b[1;33m.\u001b[0m\u001b[0mget_level_values\u001b[0m\u001b[1;33m(\u001b[0m\u001b[0mkey\u001b[0m\u001b[1;33m)\u001b[0m\u001b[1;33m.\u001b[0m\u001b[0m_values\u001b[0m\u001b[1;33m\u001b[0m\u001b[1;33m\u001b[0m\u001b[0m\n\u001b[0;32m   1843\u001b[0m         \u001b[1;32melse\u001b[0m\u001b[1;33m:\u001b[0m\u001b[1;33m\u001b[0m\u001b[1;33m\u001b[0m\u001b[0m\n\u001b[1;32m-> 1844\u001b[1;33m             \u001b[1;32mraise\u001b[0m \u001b[0mKeyError\u001b[0m\u001b[1;33m(\u001b[0m\u001b[0mkey\u001b[0m\u001b[1;33m)\u001b[0m\u001b[1;33m\u001b[0m\u001b[1;33m\u001b[0m\u001b[0m\n\u001b[0m\u001b[0;32m   1845\u001b[0m \u001b[1;33m\u001b[0m\u001b[0m\n\u001b[0;32m   1846\u001b[0m         \u001b[1;31m# Check for duplicates\u001b[0m\u001b[1;33m\u001b[0m\u001b[1;33m\u001b[0m\u001b[0m\n\u001b[0;32m   1847\u001b[0m         \u001b[1;32mif\u001b[0m \u001b[0mvalues\u001b[0m\u001b[1;33m.\u001b[0m\u001b[0mndim\u001b[0m \u001b[1;33m>\u001b[0m \u001b[1;36m1\u001b[0m\u001b[1;33m:\u001b[0m\u001b[1;33m\u001b[0m\u001b[1;33m\u001b[0m\u001b[0m\n",
      "\u001b[1;31mKeyError\u001b[0m: 'Total Profit (millions $)'"
     ]
    }
   ],
   "source": [
    "# Sort the updated data by \"Total Profit\" form highest to lowest\n",
    "summary_df = summary_df.sort_values(by='Total Profit (millions $)', ascending=False)\n"
   ]
  },
  {
   "cell_type": "code",
   "execution_count": 176,
   "id": "6589d63c",
   "metadata": {},
   "outputs": [
    {
     "name": "stdout",
     "output_type": "stream",
     "text": [
      "Summary of Findings:\n",
      "\n",
      "The analysis reveals interesting insights into the top clients' performance:\n",
      "- Client ID 24741 emerges as the top performer, contributing the most to both revenue and profit.\n",
      "- Despite ranking lower in quantity, Client ID 33615 demonstrates impressive profitability, securing the second-highest profit.\n",
      "- Client ID 38378 ranks third in profitability, showcasing a balanced performance across units purchased, revenue, and profit.\n",
      "- Client ID 46820 and Client ID 66037 also make significant contributions to revenue and profit, albeit at lower levels compared to the top three clients.\n",
      "- These findings suggest that focusing on high-profit clients, like Client ID 24741, could yield substantial returns and drive overall business success.\n",
      "\n"
     ]
    }
   ],
   "source": [
    "# Write a brief detailed summary of findings\n",
    "summary = \"\"\"\n",
    "The analysis reveals interesting insights into the top clients' performance:\n",
    "- Client ID {} emerges as the top performer, contributing the most to both revenue and profit.\n",
    "- Despite ranking lower in quantity, Client ID {} demonstrates impressive profitability, securing the second-highest profit.\n",
    "- Client ID {} ranks third in profitability, showcasing a balanced performance across units purchased, revenue, and profit.\n",
    "- Client ID {} and Client ID {} also make significant contributions to revenue and profit, albeit at lower levels compared to the top three clients.\n",
    "- These findings suggest that focusing on high-profit clients, like Client ID {}, could yield substantial returns and drive overall business success.\n",
    "\"\"\".format(\n",
    "    summary_df.index[0],\n",
    "    summary_df.index[1],\n",
    "    summary_df.index[2],\n",
    "    summary_df.index[3],\n",
    "    summary_df.index[4],\n",
    "    summary_df.index[0]\n",
    ")\n",
    "\n",
    "print(\"Summary of Findings:\")\n",
    "print(summary)"
   ]
  },
  {
   "cell_type": "code",
   "execution_count": null,
   "id": "f9b5686c-44ed-4eab-bfa2-6e0557eb5964",
   "metadata": {},
   "outputs": [],
   "source": []
  }
 ],
 "metadata": {
  "kernelspec": {
   "display_name": "Python 3 (ipykernel)",
   "language": "python",
   "name": "python3"
  },
  "language_info": {
   "codemirror_mode": {
    "name": "ipython",
    "version": 3
   },
   "file_extension": ".py",
   "mimetype": "text/x-python",
   "name": "python",
   "nbconvert_exporter": "python",
   "pygments_lexer": "ipython3",
   "version": "3.11.7"
  }
 },
 "nbformat": 4,
 "nbformat_minor": 5
}
