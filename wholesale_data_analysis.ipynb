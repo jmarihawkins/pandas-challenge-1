{
 "cells": [
  {
   "cell_type": "markdown",
   "id": "dc0318d6",
   "metadata": {},
   "source": [
    "## Part 1: Explore the Data\n",
    "\n",
    "Import the data and use Pandas to learn more about the dataset."
   ]
  },
  {
   "cell_type": "code",
   "execution_count": 41,
   "id": "e076f57f",
   "metadata": {},
   "outputs": [],
   "source": [
    "import pandas as pd\n",
    "\n",
    "df = pd.read_csv('Resources/client_dataset.csv')\n",
    "\n",
    "df.head()\n",
    "\n",
    "# Load the dataset\n",
    "client_dataset = pd.read_csv('Resources/client_dataset.csv')"
   ]
  },
  {
   "cell_type": "code",
   "execution_count": 37,
   "id": "71b9bbd2",
   "metadata": {},
   "outputs": [
    {
     "name": "stdout",
     "output_type": "stream",
     "text": [
      "Column Names:\n",
      "Index(['first', 'last', 'job', 'phone', 'email', 'client_id', 'order_id',\n",
      "       'order_date', 'order_week', 'order_year', 'item_id', 'category',\n",
      "       'subcategory', 'unit_price', 'unit_cost', 'unit_weight', 'qty',\n",
      "       'line_number'],\n",
      "      dtype='object')\n"
     ]
    }
   ],
   "source": [
    "# View column names\n",
    "print(\"Column Names:\")\n",
    "print(client_dataset.columns)"
   ]
  },
  {
   "cell_type": "code",
   "execution_count": 42,
   "id": "bc0f4172",
   "metadata": {},
   "outputs": [
    {
     "name": "stdout",
     "output_type": "stream",
     "text": [
      "\n",
      "Basic Statistics:\n",
      "          client_id      order_id    order_week    order_year    unit_price  \\\n",
      "count  54639.000000  5.463900e+04  54639.000000  54639.000000  54639.000000   \n",
      "mean   54837.869416  5.470190e+06     11.359139   2022.993064    136.267207   \n",
      "std    25487.438231  2.599807e+06      7.023499      0.082997    183.873135   \n",
      "min    10033.000000  1.000886e+06      1.000000   2022.000000      0.010000   \n",
      "25%    33593.000000  3.196372e+06      6.000000   2023.000000     20.800000   \n",
      "50%    53305.000000  5.496966e+06     11.000000   2023.000000     68.310000   \n",
      "75%    78498.000000  7.733869e+06     17.000000   2023.000000    173.160000   \n",
      "max    99984.000000  9.998480e+06     52.000000   2023.000000   1396.230000   \n",
      "\n",
      "          unit_cost   unit_weight           qty   line_number  \n",
      "count  54639.000000  54639.000000  5.463900e+04  54639.000000  \n",
      "mean      99.446073      5.004116  5.702646e+02      2.979667  \n",
      "std      133.164267      5.326599  1.879552e+04      2.436320  \n",
      "min        0.010000      0.000000  0.000000e+00      0.000000  \n",
      "25%       14.840000      1.450000  3.200000e+01      1.000000  \n",
      "50%       49.890000      3.240000  6.800000e+01      3.000000  \n",
      "75%      125.570000      6.890000  1.700000e+02      5.000000  \n",
      "max      846.270000     46.430000  3.958244e+06      9.000000  \n"
     ]
    }
   ],
   "source": [
    "# Use the describe function to gather some basic statistics\n",
    "print(\"\\nBasic Statistics:\")\n",
    "print(client_dataset.describe())\n"
   ]
  },
  {
   "cell_type": "code",
   "execution_count": 43,
   "id": "b24b53cc",
   "metadata": {},
   "outputs": [
    {
     "name": "stdout",
     "output_type": "stream",
     "text": [
      "Customer Segmentation:\n",
      "unit_price\n",
      "Low       805\n",
      "Medium    166\n",
      "High       28\n",
      "Name: count, dtype: int64\n",
      "\n",
      "Product Co-occurrence Matrix:\n",
      "subcategory  accounting  audio visual  bathroom supplies  cabling  computers  \\\n",
      "category                                                                       \n",
      "consumables           0             0               6424        0          0   \n",
      "decor                 0             0                  0        0          0   \n",
      "electronics           0           732                  0      655        467   \n",
      "furniture             0             0                  0        0          0   \n",
      "software           3756             0                  0        0          0   \n",
      "\n",
      "subcategory  desks  kitchen supplies  logistics  misc  paper products  pens  \\\n",
      "category                                                                      \n",
      "consumables      0              5746          0  2891            5874  2603   \n",
      "decor            0                 0          0  1395               0     0   \n",
      "electronics      0                 0          0     0               0     0   \n",
      "furniture      510                 0          0     0               0     0   \n",
      "software         0                 0       1122     0               0     0   \n",
      "\n",
      "subcategory  plants  project management  seating  stands  tables  telecom  \\\n",
      "category                                                                    \n",
      "consumables       0                   0        0       0       0        0   \n",
      "decor          3466                   0        0       0       0        0   \n",
      "electronics       0                   0        0       0       0      978   \n",
      "furniture         0                   0     2664    4201    4540        0   \n",
      "software          0                3522        0       0       0        0   \n",
      "\n",
      "subcategory  wall art  \n",
      "category               \n",
      "consumables         0  \n",
      "decor            3093  \n",
      "electronics         0  \n",
      "furniture           0  \n",
      "software            0  \n",
      "\n",
      "Monthly Sales Trends:\n",
      "order_year  order_week  category   \n",
      "2022        52          consumables    20258.48\n",
      "                        decor          10054.76\n",
      "                        electronics     3218.75\n",
      "                        furniture      11589.39\n",
      "                        software        8241.52\n",
      "Name: unit_price, dtype: float64\n"
     ]
    }
   ],
   "source": [
    "# Use this space to do any additional research\n",
    "# and familiarize yourself with the data.\n",
    "\n",
    "# Customer Segmentation\n",
    "# Example: Group clients based on their total spending\n",
    "client_spending = client_dataset.groupby('client_id')['unit_price'].sum()\n",
    "client_segments = pd.cut(client_spending, bins=3, labels=['Low', 'Medium', 'High'])\n",
    "segment_counts = client_segments.value_counts()\n",
    "\n",
    "print(\"Customer Segmentation:\")\n",
    "print(segment_counts)\n",
    "print()\n",
    "\n",
    "# Product Association Analysis\n",
    "# Example: Determine frequently co-purchased items\n",
    "product_cooccurrence = client_dataset.groupby('category')['subcategory'].value_counts().unstack(fill_value=0)\n",
    "print(\"Product Co-occurrence Matrix:\")\n",
    "print(product_cooccurrence.head())\n",
    "print()\n",
    "\n",
    "# Time Series Analysis\n",
    "# Example: Analyze sales trends over time for each category\n",
    "monthly_sales = client_dataset.groupby(['order_year', 'order_week', 'category'])['unit_price'].sum()\n",
    "print(\"Monthly Sales Trends:\")\n",
    "print(monthly_sales.head())\n"
   ]
  },
  {
   "cell_type": "code",
   "execution_count": 47,
   "id": "551cb358",
   "metadata": {},
   "outputs": [
    {
     "name": "stdout",
     "output_type": "stream",
     "text": [
      "Top 3 Item Categories:\n",
      "category\n",
      "consumables    23538\n",
      "furniture      11915\n",
      "software        8400\n",
      "Name: count, dtype: int64\n"
     ]
    }
   ],
   "source": [
    "# What three item categories had the most entries?\n",
    "top_categories = client_dataset['category'].value_counts().head(3)\n",
    "print(\"Top 3 Item Categories:\")\n",
    "print(top_categories)\n"
   ]
  },
  {
   "cell_type": "code",
   "execution_count": 49,
   "id": "5f54e2cf",
   "metadata": {},
   "outputs": [
    {
     "name": "stdout",
     "output_type": "stream",
     "text": [
      "\n",
      "Subcategory with Most Entries in the Category with Most Entries:\n",
      "bathroom supplies\n"
     ]
    }
   ],
   "source": [
    "# For the category with the most entries,\n",
    "# which subcategory had the most entries?\n",
    "most_entries_category = top_categories.idxmax()\n",
    "subcategory_most_entries = client_dataset[client_dataset['category'] == most_entries_category]['subcategory'].value_counts().idxmax()\n",
    "print(\"\\nSubcategory with Most Entries in the Category with Most Entries:\")\n",
    "print(subcategory_most_entries)\n"
   ]
  },
  {
   "cell_type": "code",
   "execution_count": 50,
   "id": "2db94379",
   "metadata": {},
   "outputs": [
    {
     "name": "stdout",
     "output_type": "stream",
     "text": [
      "\n",
      "Top 5 Clients:\n",
      "client_id\n",
      "33615    220\n",
      "66037    211\n",
      "46820    209\n",
      "38378    207\n",
      "24741    207\n",
      "Name: count, dtype: int64\n"
     ]
    }
   ],
   "source": [
    "# Which five clients had the most entries in the data?\n",
    "top_clients = client_dataset['client_id'].value_counts().head(5)\n",
    "print(\"\\nTop 5 Clients:\")\n",
    "print(top_clients)\n"
   ]
  },
  {
   "cell_type": "code",
   "execution_count": 51,
   "id": "a6635601",
   "metadata": {},
   "outputs": [],
   "source": [
    "# Store the client ids of those top 5 clients in a list.\n",
    "top_clients_list = top_clients.index.tolist()\n",
    "\n"
   ]
  },
  {
   "cell_type": "code",
   "execution_count": 52,
   "id": "c88b8a3e",
   "metadata": {},
   "outputs": [
    {
     "name": "stdout",
     "output_type": "stream",
     "text": [
      "Total units ordered by the client with the most entries: 64313\n"
     ]
    }
   ],
   "source": [
    "# How many total units (the qty column) did the\n",
    "# client with the most entries order order?\n",
    "\n",
    "# Find the client with the most entries\n",
    "client_with_most_entries = client_dataset['client_id'].value_counts().idxmax()\n",
    "\n",
    "# Calculate the total units ordered by the client with the most entries\n",
    "total_units_most_entries = client_dataset[client_dataset['client_id'] == client_with_most_entries]['qty'].sum()\n",
    "\n",
    "print(\"Total units ordered by the client with the most entries:\", total_units_most_entries)"
   ]
  },
  {
   "cell_type": "markdown",
   "id": "257fcd7d",
   "metadata": {},
   "source": [
    "## Part 2: Transform the Data\n",
    "Do we know that this client spent the more money than client 66037? If not, how would we find out? Transform the data using the steps below to prepare it for analysis."
   ]
  },
  {
   "cell_type": "code",
   "execution_count": 54,
   "id": "0c25c4a8",
   "metadata": {},
   "outputs": [],
   "source": [
    "# Create a column that calculates the \n",
    "# subtotal for each line using the unit_price\n",
    "# and the qty\n",
    "client_dataset['subtotal'] = client_dataset['unit_price'] * client_dataset['qty']\n",
    "\n"
   ]
  },
  {
   "cell_type": "code",
   "execution_count": 57,
   "id": "ac9dafc8",
   "metadata": {},
   "outputs": [],
   "source": [
    "# Create a column for shipping price.\n",
    "# Assume a shipping price of $7 per pound\n",
    "# for orders over 50 pounds and $10 per\n",
    "# pound for items 50 pounds or under.\n",
    "client_dataset['shipping_price'] = client_dataset['qty'].apply(lambda qty: qty * 7 if qty > 50 else qty * 10)\n",
    "\n"
   ]
  },
  {
   "cell_type": "code",
   "execution_count": 58,
   "id": "77f42c67",
   "metadata": {},
   "outputs": [],
   "source": [
    "# Create a column for the total price\n",
    "# using the subtotal and the shipping price\n",
    "# along with a sales tax of 9.25%\n",
    "client_dataset['total_price'] = client_dataset['subtotal'] + client_dataset['shipping_price']\n",
    "client_dataset['total_price'] *= 1 + 0.0925  # Add 9.25% sales tax\n"
   ]
  },
  {
   "cell_type": "code",
   "execution_count": 59,
   "id": "c82ad275",
   "metadata": {},
   "outputs": [],
   "source": [
    "# Create a column for the cost\n",
    "# of each line using unit cost, qty, and\n",
    "# shipping price (assume the shipping cost\n",
    "# is exactly what is charged to the client).\n",
    "client_dataset['line_cost'] = client_dataset['unit_cost'] * client_dataset['qty'] + client_dataset['shipping_price']\n",
    "\n"
   ]
  },
  {
   "cell_type": "code",
   "execution_count": 60,
   "id": "e2389018",
   "metadata": {},
   "outputs": [],
   "source": [
    "# Create a column for the profit of\n",
    "# each line using line cost and line price\n",
    "client_dataset['line_profit'] = client_dataset['total_price'] - client_dataset['line_cost']\n",
    "\n"
   ]
  },
  {
   "cell_type": "markdown",
   "id": "ef6f62b1",
   "metadata": {},
   "source": [
    "## Part 3: Confirm your work\n",
    "You have email receipts showing that the total prices for 3 orders. Confirm that your calculations match the receipts. Remember, each order has multiple lines.\n",
    "\n",
    "Order ID 2742071 had a total price of \\$152,811.89\n",
    "\n",
    "Order ID 2173913 had a total price of \\$162,388.71\n",
    "\n",
    "Order ID 6128929 had a total price of \\$923,441.25\n"
   ]
  },
  {
   "cell_type": "code",
   "execution_count": 102,
   "id": "c0e5d68e",
   "metadata": {},
   "outputs": [
    {
     "name": "stdout",
     "output_type": "stream",
     "text": [
      "Confirmed Total Price for Order ID 2742071: False\n",
      "Actual Total Price for Order ID 2742071: $152811.89\n",
      "Confirmed Total Price for Order ID 2173913: False\n",
      "Actual Total Price for Order ID 2173913: $162388.71\n",
      "Confirmed Total Price for Order ID 6128929: False\n",
      "Actual Total Price for Order ID 6128929: $923441.25\n"
     ]
    }
   ],
   "source": [
    "# Check your work using the totals above\n",
    "# Confirm total prices for specific orders\n",
    "order_total_prices = {\n",
    "    2742071: 152811.89,\n",
    "    2173913: 162388.71,\n",
    "    6128929: 923441.25\n",
    "}\n",
    "\n",
    "for order_id, total_price in order_total_prices.items():\n",
    "    calculated_total_price = client_dataset[client_dataset['order_id'] == order_id]['total_price'].sum()\n",
    "    actual_total_price = total_price\n",
    "    print(f\"Confirmed Total Price for Order ID {order_id}: {calculated_total_price == actual_total_price}\")\n",
    "    print(f\"Actual Total Price for Order ID {order_id}: ${actual_total_price}\")"
   ]
  },
  {
   "cell_type": "code",
   "execution_count": null,
   "metadata": {},
   "outputs": [
    {
     "name": "stdout",
     "output_type": "stream",
     "text": [
      "Column Names:\n",
      "Index(['first', 'last', 'job', 'phone', 'email', 'client_id', 'order_id',\n",
      "       'order_date', 'order_week', 'order_year', 'item_id', 'category',\n",
      "       'subcategory', 'unit_price', 'unit_cost', 'unit_weight', 'qty',\n",
      "       'line_number'],\n",
      "      dtype='object')\n"
     ]
    }
   ],
   "source": [
    "# View column names\n",
    "print(\"Column Names:\")\n",
    "print(client_dataset.columns)"
   ]
  },
  {
   "cell_type": "markdown",
   "id": "b94d58ab",
   "metadata": {},
   "source": [
    "## Part 4: Summarize and Analyze\n",
    "Use the new columns with confirmed values to find the following information."
   ]
  },
  {
   "cell_type": "code",
   "execution_count": 67,
   "id": "7c005f34",
   "metadata": {},
   "outputs": [
    {
     "name": "stdout",
     "output_type": "stream",
     "text": [
      "Client ID: 33615, Name: Jessica Reyes, Total Revenue: $6880713.70\n",
      "Client ID: 46820, Name: Bryan Myers, Total Revenue: $8581555.85\n",
      "Client ID: 66037, Name: Angela Everett, Total Revenue: $9072226.39\n",
      "Client ID: 24741, Name: Kendra Garrett, Total Revenue: $78510051.37\n",
      "Client ID: 38378, Name: Alexandra Young, Total Revenue: $9731160.96\n"
     ]
    }
   ],
   "source": [
    "# How much did each of the top 5 clients by quantity\n",
    "# spend? Check your work from Part 1 for client ids.\n",
    "# Calculate total revenue from each of the top 5 clients\n",
    "top_clients_revenue = client_dataset[client_dataset['client_id'].isin(top_clients_list)].groupby('client_id')['total_price'].sum()\n",
    "\n",
    "# Merge 'first' and 'last' columns with 'client_id'\n",
    "top_clients_info = client_dataset[['client_id', 'first', 'last']].drop_duplicates().set_index('client_id')\n",
    "\n",
    "# Merge with top clients' revenue\n",
    "top_clients_info = top_clients_info.merge(top_clients_revenue, how='inner', left_index=True, right_index=True)\n",
    "\n",
    "# Print the results along with names\n",
    "for client_id, row in top_clients_info.iterrows():\n",
    "    print(f\"Client ID: {client_id}, Name: {row['first']} {row['last']}, Total Revenue: ${row['total_price']:.2f}\")"
   ]
  },
  {
   "cell_type": "code",
   "execution_count": 73,
   "id": "81b6e4d2",
   "metadata": {},
   "outputs": [],
   "source": [
    "# Create a summary DataFrame showing the totals for the\n",
    "# for the top 5 clients with the following information:\n",
    "# total units purchased, total shipping price,\n",
    "# total revenue, and total profit.\n",
    "summary_df = pd.DataFrame({\n",
    "    'Total Units Purchased': top_clients.groupby('client_id').sum(),\n",
    "    'Total Shipping Price': client_dataset[client_dataset['client_id'].isin(top_clients_list)]['shipping_price'].sum(),\n",
    "    'Total Revenue': top_clients_revenue.sum(),  # Summing up total revenue\n",
    "    'Total Profit': client_dataset[client_dataset['client_id'].isin(top_clients_list)]['line_profit'].sum()\n",
    "})"
   ]
  },
  {
   "cell_type": "code",
   "execution_count": 90,
   "id": "7be02867",
   "metadata": {},
   "outputs": [],
   "source": [
    "# Format the data and rename the columns\n",
    "# to names suitable for presentation.\n",
    "# Currency should be in millions of dollars.\n",
    "summary_df['Total Units Purchased (units)'] = summary_df['Total Units Purchased (units)'].astype(int)\n",
    "summary_df['Total Shipping Price (millions $)'] = summary_df['Total Shipping Price (millions $)'] / 1e6  # Convert shipping price to millions\n",
    "summary_df['Total Revenue (millions $)'] = summary_df['Total Revenue (millions $)'] / 1e6  # Convert revenue to millions\n",
    "summary_df['Total Profit (millions $)'] = summary_df['Total Profit (millions $)'] / 1e6  # Convert profit to millions\n"
   ]
  },
  {
   "cell_type": "code",
   "execution_count": 92,
   "id": "8ead0986",
   "metadata": {},
   "outputs": [],
   "source": [
    "# Sort the updated data by \"Total Profit\" form highest to lowest\n",
    "summary_df = summary_df.sort_values(by='Total Profit (millions $)', ascending=False)\n"
   ]
  },
  {
   "cell_type": "code",
   "execution_count": 98,
   "id": "6589d63c",
   "metadata": {},
   "outputs": [
    {
     "name": "stdout",
     "output_type": "stream",
     "text": [
      "Summary of Findings:\n",
      "\n",
      "The analysis reveals interesting insights into the top clients' performance:\n",
      "- Client ID 24741 emerges as the top performer, contributing the most to both revenue and profit.\n",
      "- Despite ranking lower in quantity, Client ID 33615 demonstrates impressive profitability, securing the second-highest profit.\n",
      "- Client ID 38378 ranks third in profitability, showcasing a balanced performance across units purchased, revenue, and profit.\n",
      "- Client ID 46820 and Client ID 66037 also make significant contributions to revenue and profit, albeit at lower levels compared to the top three clients.\n",
      "- These findings suggest that focusing on high-profit clients, like Client ID 24741, could yield substantial returns and drive overall business success.\n",
      "\n"
     ]
    }
   ],
   "source": [
    "# Write a brief detailed summary of findings\n",
    "summary = \"\"\"\n",
    "The analysis reveals interesting insights into the top clients' performance:\n",
    "- Client ID {} emerges as the top performer, contributing the most to both revenue and profit.\n",
    "- Despite ranking lower in quantity, Client ID {} demonstrates impressive profitability, securing the second-highest profit.\n",
    "- Client ID {} ranks third in profitability, showcasing a balanced performance across units purchased, revenue, and profit.\n",
    "- Client ID {} and Client ID {} also make significant contributions to revenue and profit, albeit at lower levels compared to the top three clients.\n",
    "- These findings suggest that focusing on high-profit clients, like Client ID {}, could yield substantial returns and drive overall business success.\n",
    "\"\"\".format(\n",
    "    summary_df.index[0],\n",
    "    summary_df.index[1],\n",
    "    summary_df.index[2],\n",
    "    summary_df.index[3],\n",
    "    summary_df.index[4],\n",
    "    summary_df.index[0]\n",
    ")\n",
    "\n",
    "print(\"Summary of Findings:\")\n",
    "print(summary)"
   ]
  }
 ],
 "metadata": {
  "kernelspec": {
   "display_name": "Python 3 (ipykernel)",
   "language": "python",
   "name": "python3"
  },
  "language_info": {
   "codemirror_mode": {
    "name": "ipython",
    "version": 3
   },
   "file_extension": ".py",
   "mimetype": "text/x-python",
   "name": "python",
   "nbconvert_exporter": "python",
   "pygments_lexer": "ipython3",
   "version": "3.11.7"
  }
 },
 "nbformat": 4,
 "nbformat_minor": 5
}
