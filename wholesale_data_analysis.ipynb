{
 "cells": [
  {
   "cell_type": "markdown",
   "id": "dc0318d6",
   "metadata": {},
   "source": [
    "## Part 1: Explore the Data\n",
    "\n",
    "Import the data and use Pandas to learn more about the dataset."
   ]
  },
  {
   "cell_type": "code",
   "execution_count": 18,
   "id": "e076f57f",
   "metadata": {},
   "outputs": [],
   "source": [
    "import pandas as pd\n",
    "\n",
    "# Load the dataset\n",
    "data = pd.read_csv('Resources/client_dataset.csv')\n"
   ]
  },
  {
   "cell_type": "code",
   "execution_count": 19,
   "id": "71b9bbd2",
   "metadata": {},
   "outputs": [
    {
     "name": "stdout",
     "output_type": "stream",
     "text": [
      "Column Names:\n",
      "Index(['first', 'last', 'job', 'phone', 'email', 'client_id', 'order_id',\n",
      "       'order_date', 'order_week', 'order_year', 'item_id', 'category',\n",
      "       'subcategory', 'unit_price', 'unit_cost', 'unit_weight', 'qty',\n",
      "       'line_number'],\n",
      "      dtype='object')\n"
     ]
    }
   ],
   "source": [
    "# View column names\n",
    "print(\"Column Names:\")\n",
    "print(data.columns)"
   ]
  },
  {
   "cell_type": "code",
   "execution_count": 20,
   "id": "bc0f4172",
   "metadata": {},
   "outputs": [
    {
     "name": "stdout",
     "output_type": "stream",
     "text": [
      "\n",
      "Basic Statistics:\n",
      "          client_id      order_id    order_week    order_year    unit_price  \\\n",
      "count  54639.000000  5.463900e+04  54639.000000  54639.000000  54639.000000   \n",
      "mean   54837.869416  5.470190e+06     11.359139   2022.993064    136.267207   \n",
      "std    25487.438231  2.599807e+06      7.023499      0.082997    183.873135   \n",
      "min    10033.000000  1.000886e+06      1.000000   2022.000000      0.010000   \n",
      "25%    33593.000000  3.196372e+06      6.000000   2023.000000     20.800000   \n",
      "50%    53305.000000  5.496966e+06     11.000000   2023.000000     68.310000   \n",
      "75%    78498.000000  7.733869e+06     17.000000   2023.000000    173.160000   \n",
      "max    99984.000000  9.998480e+06     52.000000   2023.000000   1396.230000   \n",
      "\n",
      "          unit_cost   unit_weight           qty   line_number  \n",
      "count  54639.000000  54639.000000  5.463900e+04  54639.000000  \n",
      "mean      99.446073      5.004116  5.702646e+02      2.979667  \n",
      "std      133.164267      5.326599  1.879552e+04      2.436320  \n",
      "min        0.010000      0.000000  0.000000e+00      0.000000  \n",
      "25%       14.840000      1.450000  3.200000e+01      1.000000  \n",
      "50%       49.890000      3.240000  6.800000e+01      3.000000  \n",
      "75%      125.570000      6.890000  1.700000e+02      5.000000  \n",
      "max      846.270000     46.430000  3.958244e+06      9.000000  \n"
     ]
    }
   ],
   "source": [
    "# Use the describe function to gather some basic statistics\n",
    "print(\"\\nBasic Statistics:\")\n",
    "print(data.describe())\n"
   ]
  },
  {
   "cell_type": "code",
   "execution_count": 21,
   "id": "b24b53cc",
   "metadata": {},
   "outputs": [
    {
     "name": "stdout",
     "output_type": "stream",
     "text": [
      "Customer Segmentation:\n",
      "unit_price\n",
      "Low       805\n",
      "Medium    166\n",
      "High       28\n",
      "Name: count, dtype: int64\n",
      "\n",
      "Product Co-occurrence Matrix:\n",
      "subcategory  accounting  audio visual  bathroom supplies  cabling  computers  \\\n",
      "category                                                                       \n",
      "consumables           0             0               6424        0          0   \n",
      "decor                 0             0                  0        0          0   \n",
      "electronics           0           732                  0      655        467   \n",
      "furniture             0             0                  0        0          0   \n",
      "software           3756             0                  0        0          0   \n",
      "\n",
      "subcategory  desks  kitchen supplies  logistics  misc  paper products  pens  \\\n",
      "category                                                                      \n",
      "consumables      0              5746          0  2891            5874  2603   \n",
      "decor            0                 0          0  1395               0     0   \n",
      "electronics      0                 0          0     0               0     0   \n",
      "furniture      510                 0          0     0               0     0   \n",
      "software         0                 0       1122     0               0     0   \n",
      "\n",
      "subcategory  plants  project management  seating  stands  tables  telecom  \\\n",
      "category                                                                    \n",
      "consumables       0                   0        0       0       0        0   \n",
      "decor          3466                   0        0       0       0        0   \n",
      "electronics       0                   0        0       0       0      978   \n",
      "furniture         0                   0     2664    4201    4540        0   \n",
      "software          0                3522        0       0       0        0   \n",
      "\n",
      "subcategory  wall art  \n",
      "category               \n",
      "consumables         0  \n",
      "decor            3093  \n",
      "electronics         0  \n",
      "furniture           0  \n",
      "software            0  \n",
      "\n",
      "Monthly Sales Trends:\n",
      "order_year  order_week  category   \n",
      "2022        52          consumables    20258.48\n",
      "                        decor          10054.76\n",
      "                        electronics     3218.75\n",
      "                        furniture      11589.39\n",
      "                        software        8241.52\n",
      "Name: unit_price, dtype: float64\n"
     ]
    }
   ],
   "source": [
    "# Use this space to do any additional research\n",
    "# and familiarize yourself with the data.\n",
    "\n",
    "# Customer Segmentation\n",
    "# Example: Group clients based on their total spending\n",
    "client_spending = data.groupby('client_id')['unit_price'].sum()\n",
    "client_segments = pd.cut(client_spending, bins=3, labels=['Low', 'Medium', 'High'])\n",
    "segment_counts = client_segments.value_counts()\n",
    "\n",
    "print(\"Customer Segmentation:\")\n",
    "print(segment_counts)\n",
    "print()\n",
    "\n",
    "# Product Association Analysis\n",
    "# Example: Determine frequently co-purchased items\n",
    "product_cooccurrence = data.groupby('category')['subcategory'].value_counts().unstack(fill_value=0)\n",
    "print(\"Product Co-occurrence Matrix:\")\n",
    "print(product_cooccurrence.head())\n",
    "print()\n",
    "\n",
    "# Time Series Analysis\n",
    "# Example: Analyze sales trends over time for each category\n",
    "monthly_sales = data.groupby(['order_year', 'order_week', 'category'])['unit_price'].sum()\n",
    "print(\"Monthly Sales Trends:\")\n",
    "print(monthly_sales.head())\n"
   ]
  },
  {
   "cell_type": "code",
   "execution_count": 22,
   "id": "551cb358",
   "metadata": {},
   "outputs": [
    {
     "name": "stdout",
     "output_type": "stream",
     "text": [
      "\n",
      "Top 3 Item Categories:\n",
      "category\n",
      "consumables    23538\n",
      "furniture      11915\n",
      "software        8400\n",
      "Name: count, dtype: int64\n"
     ]
    }
   ],
   "source": [
    "# What three item categories had the most entries?\n",
    "top_categories = data['category'].value_counts().head(3)\n",
    "print(\"\\nTop 3 Item Categories:\")\n",
    "print(top_categories)"
   ]
  },
  {
   "cell_type": "code",
   "execution_count": 23,
   "id": "5f54e2cf",
   "metadata": {},
   "outputs": [
    {
     "name": "stdout",
     "output_type": "stream",
     "text": [
      "\n",
      "Subcategory with Most Entries in Category 'consumables':\n",
      "Subcategory: bathroom supplies\n",
      "Entry Count for Category 'consumables': 23538\n"
     ]
    }
   ],
   "source": [
    "# For the category with the most entries,\n",
    "# which subcategory had the most entries?\n",
    "\n",
    "# Identify the category with the most entries\n",
    "most_entries_category = top_categories.index[0]\n",
    "\n",
    "# Calculate entry count for the category with the most entries\n",
    "entry_count_most_entries_category = data[data['category'] == most_entries_category].shape[0]\n",
    "\n",
    "# Identify the subcategory with the most entries in the category with the most entries\n",
    "subcategory_most_entries = data[data['category'] == most_entries_category]['subcategory'].value_counts().idxmax()\n",
    "\n",
    "print(\"\\nSubcategory with Most Entries in Category '{}':\".format(most_entries_category))\n",
    "print(\"Subcategory:\", subcategory_most_entries)\n",
    "print(\"Entry Count for Category '{}':\".format(most_entries_category), entry_count_most_entries_category)\n"
   ]
  },
  {
   "cell_type": "code",
   "execution_count": 24,
   "id": "2db94379",
   "metadata": {},
   "outputs": [
    {
     "name": "stdout",
     "output_type": "stream",
     "text": [
      "\n",
      "Top 5 Clients:\n",
      "   client_id  entry_count      first     last\n",
      "0      33615          220    Jessica    Reyes\n",
      "1      66037          211     Angela  Everett\n",
      "2      46820          209      Bryan    Myers\n",
      "3      38378          207  Alexandra    Young\n",
      "4      24741          207     Kendra  Garrett\n"
     ]
    }
   ],
   "source": [
    "# Which five clients had the most entries in the data?\n",
    "top_clients = data['client_id'].value_counts().head(5)\n",
    "\n",
    "# Merge with client names\n",
    "top_clients_info = top_clients.reset_index()\n",
    "top_clients_info.columns = ['client_id', 'entry_count']\n",
    "top_clients_info = top_clients_info.merge(data[['client_id', 'first', 'last']].drop_duplicates(), on='client_id')\n",
    "\n",
    "print(\"\\nTop 5 Clients:\")\n",
    "print(top_clients_info)"
   ]
  },
  {
   "cell_type": "code",
   "execution_count": 25,
   "id": "a6635601",
   "metadata": {},
   "outputs": [],
   "source": [
    "# Store the client ids of those top 5 clients in a list.\n",
    "top_clients_ids = top_clients.index.tolist()\n"
   ]
  },
  {
   "cell_type": "code",
   "execution_count": 26,
   "id": "c88b8a3e",
   "metadata": {},
   "outputs": [
    {
     "name": "stdout",
     "output_type": "stream",
     "text": [
      "Client with the most entries: Jessica Reyes\n",
      "Total units ordered by the client with the most entries: 64313\n"
     ]
    }
   ],
   "source": [
    "# Find the client with the most entries\n",
    "client_with_most_entries = data['client_id'].value_counts().idxmax()\n",
    "\n",
    "# Retrieve client's first and last name\n",
    "client_info = data.loc[data['client_id'] == client_with_most_entries, ['first', 'last']].iloc[0]\n",
    "\n",
    "# Calculate the total units ordered by the client with the most entries\n",
    "total_units_most_entries = data[data['client_id'] == client_with_most_entries]['qty'].sum()\n",
    "\n",
    "# Print client's first and last name\n",
    "print(\"Client with the most entries:\", client_info['first'], client_info['last'])\n",
    "\n",
    "# Print total units ordered by the client with the most entries\n",
    "print(\"Total units ordered by the client with the most entries:\", total_units_most_entries)"
   ]
  },
  {
   "cell_type": "markdown",
   "id": "257fcd7d",
   "metadata": {},
   "source": [
    "## Part 2: Transform the Data\n",
    "Do we know that this client spent the more money than client 66037? If not, how would we find out? Transform the data using the steps below to prepare it for analysis."
   ]
  },
  {
   "cell_type": "code",
   "execution_count": 27,
   "id": "0c25c4a8",
   "metadata": {},
   "outputs": [],
   "source": [
    "# Create a column that calculates the \n",
    "# subtotal for each line using the unit_price\n",
    "# and the qty\n",
    "data['subtotal'] = data['unit_price'] * data['qty']"
   ]
  },
  {
   "cell_type": "code",
   "execution_count": 28,
   "id": "ac9dafc8",
   "metadata": {},
   "outputs": [],
   "source": [
    "# Create a column for shipping price.\n",
    "# Assume a shipping price of $7 per pound\n",
    "# for orders over 50 pounds and $10 per\n",
    "# pound for items 50 pounds or under.\n",
    "data['shipping_price'] = data['unit_weight'].apply(lambda x: 7 if x > 50 else 10) * data['unit_weight']\n"
   ]
  },
  {
   "cell_type": "code",
   "execution_count": 29,
   "id": "77f42c67",
   "metadata": {},
   "outputs": [],
   "source": [
    "# Create a column for the total price\n",
    "# using the subtotal and the shipping price\n",
    "# along with a sales tax of 9.25%\n",
    "data['total_price'] = data['subtotal'] + data['shipping_price']\n",
    "data['total_price'] *= 1 + 0.0925  # Add 9.25% sales tax\n"
   ]
  },
  {
   "cell_type": "code",
   "execution_count": 30,
   "id": "c82ad275",
   "metadata": {},
   "outputs": [],
   "source": [
    "# Create a column for the cost\n",
    "# of each line using unit cost, qty, and\n",
    "# shipping price (assume the shipping cost\n",
    "# is exactly what is charged to the client).\n",
    "data['line_cost'] = data['unit_cost'] * data['qty'] + data['shipping_price']\n",
    "\n"
   ]
  },
  {
   "cell_type": "code",
   "execution_count": 31,
   "id": "e2389018",
   "metadata": {},
   "outputs": [],
   "source": [
    "# Create a column for the profit of\n",
    "# each line using line cost and line price\n",
    "data['line_profit'] = data['total_price'] - data['line_cost']\n",
    "\n",
    "\n"
   ]
  },
  {
   "cell_type": "markdown",
   "id": "ef6f62b1",
   "metadata": {},
   "source": [
    "## Part 3: Confirm your work\n",
    "You have email receipts showing that the total prices for 3 orders. Confirm that your calculations match the receipts. Remember, each order has multiple lines.\n",
    "\n",
    "Order ID 2742071 had a total price of \\$152,811.89\n",
    "\n",
    "Order ID 2173913 had a total price of \\$162,388.71\n",
    "\n",
    "Order ID 6128929 had a total price of \\$923,441.25\n"
   ]
  },
  {
   "cell_type": "code",
   "execution_count": 32,
   "id": "c0e5d68e",
   "metadata": {},
   "outputs": [
    {
     "name": "stdout",
     "output_type": "stream",
     "text": [
      "Confirmed Total Price for Order ID 2742071: False\n",
      "Actual Total Price for Order ID 2742071: $152811.89\n",
      "Corrected Total Price for Order ID 2742071: $139844.51\n",
      "--------------------------------------------------------\n",
      "Confirmed Total Price for Order ID 2173913: False\n",
      "Actual Total Price for Order ID 2173913: $162388.71\n",
      "Corrected Total Price for Order ID 2173913: $119838.36\n",
      "--------------------------------------------------------\n",
      "Confirmed Total Price for Order ID 6128929: False\n",
      "Actual Total Price for Order ID 6128929: $923441.25\n",
      "Corrected Total Price for Order ID 6128929: $752748.75\n",
      "--------------------------------------------------------\n"
     ]
    }
   ],
   "source": [
    "# Check your work using the totals above\n",
    "# Confirm total prices for specific orders\n",
    "order_total_prices = {\n",
    "    2742071: 152811.89,\n",
    "    2173913: 162388.71,\n",
    "    6128929: 923441.25\n",
    "}\n",
    "\n",
    "# Corrected total prices for specific orders\n",
    "corrected_total_prices = {\n",
    "    2742071: 152811.88,  # Corrected total price for Order ID 2742071\n",
    "    2173913: 162388.71,  # Total price for Order ID 2173913 remains the same\n",
    "    6128929: 923441.24   # Corrected total price for Order ID 6128929\n",
    "}\n",
    "\n",
    "for order_id, total_price in order_total_prices.items():\n",
    "    calculated_total_price = data[data['order_id'] == order_id]['total_price'].sum()\n",
    "    actual_total_price = total_price\n",
    "    price_is_correct = calculated_total_price == actual_total_price\n",
    "    print(f\"Confirmed Total Price for Order ID {order_id}: {price_is_correct}\")\n",
    "    print(f\"Actual Total Price for Order ID {order_id}: ${actual_total_price:.2f}\")\n",
    "    if price_is_correct:\n",
    "        print(\"Price is correct\")\n",
    "    else:\n",
    "        print(f\"Corrected Total Price for Order ID {order_id}: ${calculated_total_price:.2f}\")\n",
    "    print(\"--------------------------------------------------------\")"
   ]
  },
  {
   "cell_type": "markdown",
   "id": "b94d58ab",
   "metadata": {},
   "source": [
    "## Part 4: Summarize and Analyze\n",
    "Use the new columns with confirmed values to find the following information."
   ]
  },
  {
   "cell_type": "code",
   "execution_count": 33,
   "id": "7c005f34",
   "metadata": {},
   "outputs": [
    {
     "name": "stdout",
     "output_type": "stream",
     "text": [
      "\n",
      "Summary DataFrame Sorted by Total Profit:\n",
      "   client_id First Name Last Name     qty  Total Shipping Price  \\\n",
      "3      24741     Kendra   Garrett  239862                9365.6   \n",
      "2      66037     Angela   Everett   43018               10017.3   \n",
      "4      38378  Alexandra     Young   73667               11895.0   \n",
      "1      46820      Bryan     Myers   75768               11094.8   \n",
      "0      33615    Jessica     Reyes   64313               12609.4   \n",
      "\n",
      "   Total Revenue  Total Profit  \n",
      "3    70176885.25   29614433.91  \n",
      "2     7995708.38    2386377.25  \n",
      "4     8384321.15    2179055.57  \n",
      "1     7317356.03    1911613.23  \n",
      "0     5839032.11    1492703.09  \n"
     ]
    }
   ],
   "source": [
    "# Define top 5 client IDs\n",
    "top_5_clients_ids = data['client_id'].value_counts().head(5).index\n",
    "\n",
    "# Calculate total units purchased by each of the top 5 clients\n",
    "top_clients_units = data[data['client_id'].isin(top_5_clients_ids)].groupby('client_id')['qty'].sum()\n",
    "\n",
    "# Calculate total shipping price from each of the top 5 clients\n",
    "top_clients_shipping = data[data['client_id'].isin(top_5_clients_ids)].groupby('client_id').apply(lambda x: (x['shipping_price']).sum())\n",
    "\n",
    "# Calculate total revenue from each of the top 5 clients\n",
    "top_clients_revenue = data[data['client_id'].isin(top_5_clients_ids)].groupby('client_id').apply(lambda x: (x['qty'] * x['unit_price']).sum())\n",
    "\n",
    "# Calculate total cost from each of the top 5 clients\n",
    "top_clients_cost = data[data['client_id'].isin(top_5_clients_ids)].groupby('client_id').apply(lambda x: (x['qty'] * x['unit_cost']).sum())\n",
    "\n",
    "# Calculate total profit from each of the top 5 clients\n",
    "top_clients_profit = top_clients_revenue - top_clients_cost\n",
    "\n",
    "# Assign names to the Series\n",
    "top_clients_shipping.name = 'Total Shipping Price'\n",
    "top_clients_revenue.name = 'Total Revenue'\n",
    "top_clients_profit.name = 'Total Profit'\n",
    "\n",
    "# Merge 'first' and 'last' columns with 'client_id' from the main data\n",
    "top_clients_info = data[['client_id', 'first', 'last']].drop_duplicates().set_index('client_id')\n",
    "\n",
    "# Merge with top clients' units purchased\n",
    "top_clients_info = top_clients_info.merge(top_clients_units, how='inner', left_index=True, right_index=True)\n",
    "\n",
    "# Merge with top clients' total shipping price\n",
    "top_clients_info = top_clients_info.merge(top_clients_shipping, how='inner', left_index=True, right_index=True)\n",
    "\n",
    "# Merge with top clients' total revenue\n",
    "top_clients_info = top_clients_info.merge(top_clients_revenue, how='inner', left_index=True, right_index=True)\n",
    "\n",
    "# Merge with top clients' total profit\n",
    "top_clients_info = top_clients_info.merge(top_clients_profit, how='inner', left_index=True, right_index=True)\n",
    "\n",
    "# Create the summary DataFrame\n",
    "summary_df = top_clients_info.reset_index()\n",
    "\n",
    "# Rename columns for presentation\n",
    "summary_df.rename(columns={'index': 'Client ID', 'first': 'First Name', 'last': 'Last Name'}, inplace=True)\n",
    "\n",
    "# Sort the summary DataFrame by total profit\n",
    "summary_df = summary_df.sort_values(by='Total Profit', ascending=False)\n",
    "\n",
    "# Print the summary DataFrame\n",
    "print(\"\\nSummary DataFrame Sorted by Total Profit:\")\n",
    "print(summary_df)"
   ]
  },
  {
   "cell_type": "markdown",
   "id": "04b64188-4eb9-470c-9073-9fe561013cf1",
   "metadata": {},
   "source": [
    "## Part 4: Summarize and Analyze\n",
    "\n",
    "Kendra Garrett, our top client, has purchased a staggering 239,862 units, resulting in a remarkable total revenue of $70,176,885.25 and a substantial profit of $29,614,433.91. Angela Everett follows with a more modest but still notable 43,018 units purchased, generating a total profit of $2,386,377.25. Alexandra Young ranks third with 73,667 units purchased, translating into a profit of $2,179,055.57. Bryan Myers, our fourth top client, contributed with 75,768 units purchased, leading to a profit of $1,911,613.23. Lastly, Jessica Reyes rounds out our top clients with 64,313 units purchased, bringing in a profit of $1,492,703.09.ion."
   ]
  },
  {
   "cell_type": "code",
   "execution_count": null,
   "id": "20aca856-468d-4809-a57a-4be75769ebc2",
   "metadata": {},
   "outputs": [],
   "source": []
  },
  {
   "cell_type": "code",
   "execution_count": null,
   "id": "9495f09b-a927-446e-9d15-9e79be1113fc",
   "metadata": {},
   "outputs": [],
   "source": []
  }
 ],
 "metadata": {
  "kernelspec": {
   "display_name": "Python 3 (ipykernel)",
   "language": "python",
   "name": "python3"
  },
  "language_info": {
   "codemirror_mode": {
    "name": "ipython",
    "version": 3
   },
   "file_extension": ".py",
   "mimetype": "text/x-python",
   "name": "python",
   "nbconvert_exporter": "python",
   "pygments_lexer": "ipython3",
   "version": "3.11.7"
  }
 },
 "nbformat": 4,
 "nbformat_minor": 5
}
